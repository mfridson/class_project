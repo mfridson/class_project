{
 "cells": [
  {
   "cell_type": "markdown",
   "id": "4ea38909",
   "metadata": {},
   "source": [
    "# Abstract\n",
    "In ≤300 words:  \n",
    "This study quantifies how the recent surge in GLP-1 use for weight loss affects Medicare support for drug costs, self-reported attitudes and projected resource utilization. …existing content shortened for brevity…"
   ]
  },
  {
   "cell_type": "markdown",
   "id": "2c6bd77a",
   "metadata": {},
   "source": [
    "# Introduction\n",
    "• Research question stated  \n",
    "• Relevance to payers, providers, policymakers explained.  \n",
    "• Literature gap paragraph.  "
   ]
  },
  {
   "cell_type": "code",
   "execution_count": null,
   "id": "49a68220",
   "metadata": {},
   "outputs": [],
   "source": [
    "# Imports & configuration\n",
    "import pandas as pd, numpy as np, seaborn as sns, matplotlib.pyplot as plt\n",
    "plt.style.use(\"seaborn-v0_8-darkgrid\")\n",
    "sns.set_context(\"talk\")"
   ]
  },
  {
   "cell_type": "markdown",
   "id": "e6a69017",
   "metadata": {},
   "source": [
    "## Data Sources\n",
    "1. KFF public-opinion CSVs (`data-UWjw5.csv`, `data-Gskui.csv`)  \n",
    "2. CMS Innovation Center milestone archive (proxy for utilisation pressure).  \n",
    "3. *(optional)* Social-media API (Twitter/X) for sentiment.  "
   ]
  },
  {
   "cell_type": "code",
   "execution_count": null,
   "id": "1a4e02a2",
   "metadata": {},
   "outputs": [],
   "source": [
    "# Load & preview KFF polling data\n",
    "kff_path = \"/Users/marcfridson/Project_Data_All/Data Files/KFF/\"\n",
    "raw_before = pd.read_csv(kff_path+\"data-UWjw5.csv\")\n",
    "raw_after  = pd.read_csv(kff_path+\"data-Gskui.csv\")\n",
    "display(raw_before.head(3))\n",
    "display(raw_after.head(3))"
   ]
  },
  {
   "cell_type": "code",
   "execution_count": null,
   "id": "04b7eed3",
   "metadata": {},
   "outputs": [],
   "source": [
    "# --- Data Wrangling ----------------------------------------------------------\n",
    "def tidy_kff(df: pd.DataFrame, suffix: str):\n",
    "    \"\"\"Clean html tags, melt percentage columns into tidy long format.\"\"\"\n",
    "    df = df.copy()\n",
    "    df.columns = df.columns.str.replace(r'[^\\w\\s]+', '', regex=True)\n",
    "    df.iloc[:,0] = (df.iloc[:,0]\n",
    "                    .str.replace(r'<.*?>', '', regex=True)\n",
    "                    .str.strip()\n",
    "                    .replace({'':np.nan})).ffill()\n",
    "    long = (df\n",
    "            .rename(columns={df.columns[0]:\"Group\"})\n",
    "            .melt(id_vars=\"Group\", var_name=\"Response\", value_name=\"Pct\")\n",
    "            .assign(Phase=suffix))\n",
    "    return long\n",
    "\n",
    "before = tidy_kff(raw_before, \"Before\")\n",
    "after  = tidy_kff(raw_after,  \"After\")\n",
    "kff = pd.concat([before, after])\n",
    "display(kff.head())"
   ]
  },
  {
   "cell_type": "code",
   "execution_count": null,
   "id": "8fdac744",
   "metadata": {},
   "outputs": [],
   "source": [
    "# Compute change in support after arguments\n",
    "delta = (kff.pivot_table(index=[\"Group\",\"Response\"],\n",
    "                         columns=\"Phase\",\n",
    "                         values=\"Pct\")\n",
    "               .assign(Delta=lambda d: d[\"After\"]-d[\"Before\"])\n",
    "               .reset_index())\n",
    "delta.head()"
   ]
  },
  {
   "cell_type": "code",
   "execution_count": null,
   "id": "3cc1464d",
   "metadata": {},
   "outputs": [],
   "source": [
    "# --- EDA Visuals -------------------------------------------------------------\n",
    "palette = {\"Yes Medicare should cover the cost\":\"#4c72b0\",\n",
    "           \"No Medicare should not cover the cost\":\"#c44e52\"}\n",
    "plt.figure(figsize=(10,6))\n",
    "sns.barplot(data=delta.query(\"Response=='Yes Medicare should cover the cost'\"),\n",
    "            y=\"Group\", x=\"Delta\", palette=\"Blues_d\")\n",
    "plt.title(\"Shift in Public Support for Medicare Coverage of GLP-1s\\n(After hearing pro/contra arguments)\")\n",
    "plt.xlabel(\"Δ Percentage Points\")\n",
    "plt.ylabel(\"\")\n",
    "plt.tight_layout()\n",
    "plt.show()"
   ]
  },
  {
   "cell_type": "markdown",
   "id": "62bf65e7",
   "metadata": {},
   "source": [
    "### Interim Findings\n",
    "Describe what segments show the greatest opinion swing, link to potential uptake of weight-loss coverage.  "
   ]
  },
  {
   "cell_type": "code",
   "execution_count": null,
   "id": "46b1d9ab",
   "metadata": {},
   "outputs": [],
   "source": [
    "# --- Utilisation Proxy using CMS Milestones file ----------------------------\n",
    "cms_path = \"/Users/marcfridson/Project_Data_All/Data Files/Innovation Center Milestones and Updates/2025-05-14/\"\n",
    "cms = pd.read_csv(cms_path+\"Milestones and Updates-Upload-File-RCHD-05-14-2025.csv\")\n",
    "glp1_related = cms[cms[\"Model Name (ID's which detail page to populate)\"]\n",
    "                   .str.contains(\"Value-Based Insurance Design|Enhanced Medication Therapy Management\",\n",
    "                                 na=False)]\n",
    "glp1_related[\"Date\"] = pd.to_datetime(glp1_related[\"Date\"])\n",
    "monthly = glp1_related.groupby(pd.Grouper(key=\"Date\", freq=\"M\")).size()\n",
    "monthly.plot(kind=\"line\", figsize=(10,4), title=\"CMS Milestone Frequency (GLP-1 relevant programs)\")\n",
    "plt.ylabel(\"Count\")\n",
    "plt.show()"
   ]
  },
  {
   "cell_type": "markdown",
   "id": "23d5f59d",
   "metadata": {},
   "source": [
    "### Social-Media Sentiment (Skeleton)\n",
    "*Uncomment and add API keys to run.*\n",
    "\n",
    "```python\n",
    "# import snscrape.modules.twitter as sntwitter\n",
    "# import nltk, re, textblob\n",
    "# tweets = [t.content for t in sntwitter.TwitterSearchScraper(\"Ozempic Wegovy since:2023-01-01\").get_items()]\n",
    "# # basic polarity scoring …\n",
    "```"
   ]
  },
  {
   "cell_type": "code",
   "execution_count": null,
   "id": "ab4dc752",
   "metadata": {},
   "outputs": [],
   "source": [
    "# --- Simple outcome simulation example --------------------------------------\n",
    "# Suppose ↑support converts to ↑utilisation; simulate resource impact.\n",
    "support_growth = delta.loc[delta.Response.str.startswith(\"Yes\"),\"Delta\"].mean()\n",
    "baseline_cost = 10600  # hypothetical annual GLP-1 drug cost\n",
    "patients = 1_000_000   # hypothetical Medicare eligibles\n",
    "added_cost = support_growth/100 * patients * baseline_cost\n",
    "print(f\"Projected added Medicare spend: ${added_cost/1e9:,.2f} B\")"
   ]
  },
  {
   "cell_type": "markdown",
   "id": "31aa39a6",
   "metadata": {},
   "source": [
    "# Conclusions\n",
    "Summarise insights, acknowledge limitations (small public-opinion sample, lack of claims data), suggest policy actions.  "
   ]
  },
  {
   "cell_type": "markdown",
   "id": "d3462848",
   "metadata": {},
   "source": [
    "## References\n",
    "KFF (2024). Public opinion polling dataset on GLP-1 coverage…  \n",
    "CMS Innovation Center Milestone Archive (accessed 2025-07-10)…  "
   ]
  },
  {
   "cell_type": "markdown",
   "id": "43c7976b",
   "metadata": {},
   "source": [
    "## Data-Collection Checklist (raw-data sources only)\n",
    "\n",
    "| # | Source | What to Grab | Where to Store | How |\n",
    "|---|--------|--------------|----------------|-----|\n",
    "| 1 | **KFF Health-Tracking Poll** | `data-UWjw5.csv`, `data-Gskui.csv` | `/Data Files/KFF/` | Manual download from KFF → save CSVs. |\n",
    "| 2 | **CMS Innovation Milestones** | `Milestones and Updates-Upload-File-RCHD-05-14-2025.csv` | `/Data Files/Innovation Center Milestones and Updates/2025-05-14/` | Click “Export CSV” on CMS page. |\n",
    "| 3 | **FDA FAERS** | Q1-2025 ASCII zip + schema | `/GLP1_Data/FDA/` | Download from FAERS dashboard → unzip. |\n",
    "| 4 | **Reddit User Experiences** | JSON from ≥10 threads | `/GLP1_Data/Reddit/` | `snscrape reddit-submission … > reddit.json` |\n",
    "| 5 | **Twitter/X API** | Tweets JSON (keyword: “Ozempic OR Wegovy”) | `/GLP1_Data/Twitter/` | Use snscrape or official API with bearer token. |\n",
    "| 6 | **Optional Medicare Claims (LDS Part D)** | Annual Part D claims CSV/Parquet | `/Data Files/Claims/` | Request via CMS VRDC → decrypt & copy locally. |\n",
    "\n",
    "### General procedure  \n",
    "1. Create the listed sub-folders if they do not exist.  \n",
    "2. Follow “What to Grab” for each row; keep original filenames when possible.  \n",
    "3. Version-control small raw files; large claims/FAERS archives can be kept out of Git.  \n",
    "4. After collection, run the notebook; code cells assume the structure above."
   ]
  }
 ],
 "metadata": {
  "language_info": {
   "name": "python"
  }
 },
 "nbformat": 4,
 "nbformat_minor": 5
}
